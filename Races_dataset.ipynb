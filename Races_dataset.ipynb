{
  "nbformat": 4,
  "nbformat_minor": 0,
  "metadata": {
    "colab": {
      "name": "Races_dataset.ipynb",
      "provenance": [],
      "authorship_tag": "ABX9TyOwKmZtXtNVuMO7VBBXkq1N",
      "include_colab_link": true
    },
    "kernelspec": {
      "name": "python3",
      "display_name": "Python 3"
    },
    "accelerator": "GPU"
  },
  "cells": [
    {
      "cell_type": "markdown",
      "metadata": {
        "id": "view-in-github",
        "colab_type": "text"
      },
      "source": [
        "<a href=\"https://colab.research.google.com/github/mvmorr/CE888_Assignment2/blob/master/Races_dataset.ipynb\" target=\"_parent\"><img src=\"https://colab.research.google.com/assets/colab-badge.svg\" alt=\"Open In Colab\"/></a>"
      ]
    },
    {
      "cell_type": "markdown",
      "metadata": {
        "id": "zB9qI7FuiiMp",
        "colab_type": "text"
      },
      "source": [
        "Load, prepare and inspect the datasets"
      ]
    },
    {
      "cell_type": "markdown",
      "metadata": {
        "id": "96d8_95siq05",
        "colab_type": "text"
      },
      "source": [
        "Races datasets with 65% imbalanced\n"
      ]
    },
    {
      "cell_type": "code",
      "metadata": {
        "id": "FKYX4vB6sWzr",
        "colab_type": "code",
        "colab": {}
      },
      "source": [
        "from sklearn import tree\n",
        "import pandas as pd\n",
        "import numpy as np\n",
        "from sklearn.model_selection import train_test_split, cross_val_score, StratifiedKFold, permutation_test_score\n",
        "from sklearn.ensemble import RandomForestClassifier, RandomForestRegressor\n",
        "import matplotlib.pyplot as plt\n",
        "import matplotlib.cm as cm\n",
        "from sklearn.preprocessing import MinMaxScaler\n",
        "from sklearn.cluster import KMeans\n",
        "from sklearn.metrics import silhouette_score, silhouette_samples\n",
        "from google.colab import drive\n",
        "from sklearn.preprocessing import LabelEncoder"
      ],
      "execution_count": 0,
      "outputs": []
    },
    {
      "cell_type": "code",
      "metadata": {
        "id": "hZNWFCActFNH",
        "colab_type": "code",
        "outputId": "132207fe-2eb8-491d-feb5-014c0bf46e8d",
        "colab": {
          "base_uri": "https://localhost:8080/",
          "height": 394
        }
      },
      "source": [
        "data = pd.read_csv(\"races.csv\")\n",
        "data.head()"
      ],
      "execution_count": 0,
      "outputs": [
        {
          "output_type": "execute_result",
          "data": {
            "text/html": [
              "<div>\n",
              "<style scoped>\n",
              "    .dataframe tbody tr th:only-of-type {\n",
              "        vertical-align: middle;\n",
              "    }\n",
              "\n",
              "    .dataframe tbody tr th {\n",
              "        vertical-align: top;\n",
              "    }\n",
              "\n",
              "    .dataframe thead th {\n",
              "        text-align: right;\n",
              "    }\n",
              "</style>\n",
              "<table border=\"1\" class=\"dataframe\">\n",
              "  <thead>\n",
              "    <tr style=\"text-align: right;\">\n",
              "      <th></th>\n",
              "      <th>race_id</th>\n",
              "      <th>date</th>\n",
              "      <th>venue</th>\n",
              "      <th>race_no</th>\n",
              "      <th>config</th>\n",
              "      <th>surface</th>\n",
              "      <th>distance</th>\n",
              "      <th>going</th>\n",
              "      <th>horse_ratings</th>\n",
              "      <th>prize</th>\n",
              "      <th>race_class</th>\n",
              "      <th>sec_time1</th>\n",
              "      <th>sec_time2</th>\n",
              "      <th>sec_time3</th>\n",
              "      <th>sec_time4</th>\n",
              "      <th>sec_time5</th>\n",
              "      <th>sec_time6</th>\n",
              "      <th>sec_time7</th>\n",
              "      <th>time1</th>\n",
              "      <th>time2</th>\n",
              "      <th>time3</th>\n",
              "      <th>time4</th>\n",
              "      <th>time5</th>\n",
              "      <th>time6</th>\n",
              "      <th>time7</th>\n",
              "      <th>place_combination1</th>\n",
              "      <th>place_combination2</th>\n",
              "      <th>place_combination3</th>\n",
              "      <th>place_combination4</th>\n",
              "      <th>place_dividend1</th>\n",
              "      <th>place_dividend2</th>\n",
              "      <th>place_dividend3</th>\n",
              "      <th>place_dividend4</th>\n",
              "      <th>win_combination1</th>\n",
              "      <th>win_dividend1</th>\n",
              "      <th>win_combination2</th>\n",
              "      <th>win_dividend2</th>\n",
              "    </tr>\n",
              "  </thead>\n",
              "  <tbody>\n",
              "    <tr>\n",
              "      <th>0</th>\n",
              "      <td>0</td>\n",
              "      <td>1997-06-02</td>\n",
              "      <td>ST</td>\n",
              "      <td>1</td>\n",
              "      <td>A</td>\n",
              "      <td>0</td>\n",
              "      <td>1400</td>\n",
              "      <td>GOOD TO FIRM</td>\n",
              "      <td>40-15</td>\n",
              "      <td>485000.0</td>\n",
              "      <td>5</td>\n",
              "      <td>13.53</td>\n",
              "      <td>21.59</td>\n",
              "      <td>23.94</td>\n",
              "      <td>23.58</td>\n",
              "      <td>NaN</td>\n",
              "      <td>NaN</td>\n",
              "      <td>NaN</td>\n",
              "      <td>13.53</td>\n",
              "      <td>35.12</td>\n",
              "      <td>59.06</td>\n",
              "      <td>82.64</td>\n",
              "      <td>NaN</td>\n",
              "      <td>NaN</td>\n",
              "      <td>NaN</td>\n",
              "      <td>8</td>\n",
              "      <td>11</td>\n",
              "      <td>6.0</td>\n",
              "      <td>NaN</td>\n",
              "      <td>36.5</td>\n",
              "      <td>25.5</td>\n",
              "      <td>18.0</td>\n",
              "      <td>NaN</td>\n",
              "      <td>8</td>\n",
              "      <td>121.0</td>\n",
              "      <td>NaN</td>\n",
              "      <td>NaN</td>\n",
              "    </tr>\n",
              "    <tr>\n",
              "      <th>1</th>\n",
              "      <td>1</td>\n",
              "      <td>1997-06-02</td>\n",
              "      <td>ST</td>\n",
              "      <td>2</td>\n",
              "      <td>A</td>\n",
              "      <td>0</td>\n",
              "      <td>1200</td>\n",
              "      <td>GOOD TO FIRM</td>\n",
              "      <td>40-15</td>\n",
              "      <td>485000.0</td>\n",
              "      <td>5</td>\n",
              "      <td>24.05</td>\n",
              "      <td>22.64</td>\n",
              "      <td>23.70</td>\n",
              "      <td>NaN</td>\n",
              "      <td>NaN</td>\n",
              "      <td>NaN</td>\n",
              "      <td>NaN</td>\n",
              "      <td>24.05</td>\n",
              "      <td>46.69</td>\n",
              "      <td>70.39</td>\n",
              "      <td>NaN</td>\n",
              "      <td>NaN</td>\n",
              "      <td>NaN</td>\n",
              "      <td>NaN</td>\n",
              "      <td>5</td>\n",
              "      <td>13</td>\n",
              "      <td>4.0</td>\n",
              "      <td>NaN</td>\n",
              "      <td>12.5</td>\n",
              "      <td>47.0</td>\n",
              "      <td>33.5</td>\n",
              "      <td>NaN</td>\n",
              "      <td>5</td>\n",
              "      <td>23.5</td>\n",
              "      <td>NaN</td>\n",
              "      <td>NaN</td>\n",
              "    </tr>\n",
              "    <tr>\n",
              "      <th>2</th>\n",
              "      <td>2</td>\n",
              "      <td>1997-06-02</td>\n",
              "      <td>ST</td>\n",
              "      <td>3</td>\n",
              "      <td>A</td>\n",
              "      <td>0</td>\n",
              "      <td>1400</td>\n",
              "      <td>GOOD TO FIRM</td>\n",
              "      <td>60-40</td>\n",
              "      <td>625000.0</td>\n",
              "      <td>4</td>\n",
              "      <td>13.77</td>\n",
              "      <td>22.22</td>\n",
              "      <td>24.88</td>\n",
              "      <td>22.82</td>\n",
              "      <td>NaN</td>\n",
              "      <td>NaN</td>\n",
              "      <td>NaN</td>\n",
              "      <td>13.77</td>\n",
              "      <td>35.99</td>\n",
              "      <td>60.87</td>\n",
              "      <td>83.69</td>\n",
              "      <td>NaN</td>\n",
              "      <td>NaN</td>\n",
              "      <td>NaN</td>\n",
              "      <td>11</td>\n",
              "      <td>1</td>\n",
              "      <td>13.0</td>\n",
              "      <td>NaN</td>\n",
              "      <td>23.0</td>\n",
              "      <td>23.0</td>\n",
              "      <td>59.5</td>\n",
              "      <td>NaN</td>\n",
              "      <td>11</td>\n",
              "      <td>70.0</td>\n",
              "      <td>NaN</td>\n",
              "      <td>NaN</td>\n",
              "    </tr>\n",
              "    <tr>\n",
              "      <th>3</th>\n",
              "      <td>3</td>\n",
              "      <td>1997-06-02</td>\n",
              "      <td>ST</td>\n",
              "      <td>4</td>\n",
              "      <td>A</td>\n",
              "      <td>0</td>\n",
              "      <td>1200</td>\n",
              "      <td>GOOD TO FIRM</td>\n",
              "      <td>120-95</td>\n",
              "      <td>1750000.0</td>\n",
              "      <td>1</td>\n",
              "      <td>24.33</td>\n",
              "      <td>22.47</td>\n",
              "      <td>22.09</td>\n",
              "      <td>NaN</td>\n",
              "      <td>NaN</td>\n",
              "      <td>NaN</td>\n",
              "      <td>NaN</td>\n",
              "      <td>24.33</td>\n",
              "      <td>46.80</td>\n",
              "      <td>68.89</td>\n",
              "      <td>NaN</td>\n",
              "      <td>NaN</td>\n",
              "      <td>NaN</td>\n",
              "      <td>NaN</td>\n",
              "      <td>5</td>\n",
              "      <td>3</td>\n",
              "      <td>10.0</td>\n",
              "      <td>NaN</td>\n",
              "      <td>14.0</td>\n",
              "      <td>24.5</td>\n",
              "      <td>16.0</td>\n",
              "      <td>NaN</td>\n",
              "      <td>5</td>\n",
              "      <td>52.0</td>\n",
              "      <td>NaN</td>\n",
              "      <td>NaN</td>\n",
              "    </tr>\n",
              "    <tr>\n",
              "      <th>4</th>\n",
              "      <td>4</td>\n",
              "      <td>1997-06-02</td>\n",
              "      <td>ST</td>\n",
              "      <td>5</td>\n",
              "      <td>A</td>\n",
              "      <td>0</td>\n",
              "      <td>1600</td>\n",
              "      <td>GOOD TO FIRM</td>\n",
              "      <td>60-40</td>\n",
              "      <td>625000.0</td>\n",
              "      <td>4</td>\n",
              "      <td>25.45</td>\n",
              "      <td>23.52</td>\n",
              "      <td>23.31</td>\n",
              "      <td>23.56</td>\n",
              "      <td>NaN</td>\n",
              "      <td>NaN</td>\n",
              "      <td>NaN</td>\n",
              "      <td>25.45</td>\n",
              "      <td>48.97</td>\n",
              "      <td>72.28</td>\n",
              "      <td>95.84</td>\n",
              "      <td>NaN</td>\n",
              "      <td>NaN</td>\n",
              "      <td>NaN</td>\n",
              "      <td>2</td>\n",
              "      <td>10</td>\n",
              "      <td>1.0</td>\n",
              "      <td>NaN</td>\n",
              "      <td>15.5</td>\n",
              "      <td>28.0</td>\n",
              "      <td>17.5</td>\n",
              "      <td>NaN</td>\n",
              "      <td>2</td>\n",
              "      <td>36.5</td>\n",
              "      <td>NaN</td>\n",
              "      <td>NaN</td>\n",
              "    </tr>\n",
              "  </tbody>\n",
              "</table>\n",
              "</div>"
            ],
            "text/plain": [
              "   race_id        date venue  ...  win_dividend1 win_combination2  win_dividend2\n",
              "0        0  1997-06-02    ST  ...          121.0              NaN            NaN\n",
              "1        1  1997-06-02    ST  ...           23.5              NaN            NaN\n",
              "2        2  1997-06-02    ST  ...           70.0              NaN            NaN\n",
              "3        3  1997-06-02    ST  ...           52.0              NaN            NaN\n",
              "4        4  1997-06-02    ST  ...           36.5              NaN            NaN\n",
              "\n",
              "[5 rows x 37 columns]"
            ]
          },
          "metadata": {
            "tags": []
          },
          "execution_count": 4
        }
      ]
    },
    {
      "cell_type": "code",
      "metadata": {
        "id": "sLphUm5VtQ9s",
        "colab_type": "code",
        "outputId": "26f27d06-a000-405d-9e3d-4ec2b5047bd7",
        "colab": {
          "base_uri": "https://localhost:8080/",
          "height": 394
        }
      },
      "source": [
        "data.drop(['date', 'sec_time4', 'sec_time5','sec_time6','sec_time7','time4','time5','time6','time7', 'place_combination3','place_combination4', 'place_dividend3','place_dividend4', 'win_combination2', 'win_dividend2'],axis=1, inplace=True)\n",
        "data.head()"
      ],
      "execution_count": 0,
      "outputs": [
        {
          "output_type": "execute_result",
          "data": {
            "text/html": [
              "<div>\n",
              "<style scoped>\n",
              "    .dataframe tbody tr th:only-of-type {\n",
              "        vertical-align: middle;\n",
              "    }\n",
              "\n",
              "    .dataframe tbody tr th {\n",
              "        vertical-align: top;\n",
              "    }\n",
              "\n",
              "    .dataframe thead th {\n",
              "        text-align: right;\n",
              "    }\n",
              "</style>\n",
              "<table border=\"1\" class=\"dataframe\">\n",
              "  <thead>\n",
              "    <tr style=\"text-align: right;\">\n",
              "      <th></th>\n",
              "      <th>race_id</th>\n",
              "      <th>venue</th>\n",
              "      <th>race_no</th>\n",
              "      <th>config</th>\n",
              "      <th>surface</th>\n",
              "      <th>distance</th>\n",
              "      <th>going</th>\n",
              "      <th>horse_ratings</th>\n",
              "      <th>prize</th>\n",
              "      <th>race_class</th>\n",
              "      <th>sec_time1</th>\n",
              "      <th>sec_time2</th>\n",
              "      <th>sec_time3</th>\n",
              "      <th>time1</th>\n",
              "      <th>time2</th>\n",
              "      <th>time3</th>\n",
              "      <th>place_combination1</th>\n",
              "      <th>place_combination2</th>\n",
              "      <th>place_dividend1</th>\n",
              "      <th>place_dividend2</th>\n",
              "      <th>win_combination1</th>\n",
              "      <th>win_dividend1</th>\n",
              "    </tr>\n",
              "  </thead>\n",
              "  <tbody>\n",
              "    <tr>\n",
              "      <th>0</th>\n",
              "      <td>0</td>\n",
              "      <td>ST</td>\n",
              "      <td>1</td>\n",
              "      <td>A</td>\n",
              "      <td>0</td>\n",
              "      <td>1400</td>\n",
              "      <td>GOOD TO FIRM</td>\n",
              "      <td>40-15</td>\n",
              "      <td>485000.0</td>\n",
              "      <td>5</td>\n",
              "      <td>13.53</td>\n",
              "      <td>21.59</td>\n",
              "      <td>23.94</td>\n",
              "      <td>13.53</td>\n",
              "      <td>35.12</td>\n",
              "      <td>59.06</td>\n",
              "      <td>8</td>\n",
              "      <td>11</td>\n",
              "      <td>36.5</td>\n",
              "      <td>25.5</td>\n",
              "      <td>8</td>\n",
              "      <td>121.0</td>\n",
              "    </tr>\n",
              "    <tr>\n",
              "      <th>1</th>\n",
              "      <td>1</td>\n",
              "      <td>ST</td>\n",
              "      <td>2</td>\n",
              "      <td>A</td>\n",
              "      <td>0</td>\n",
              "      <td>1200</td>\n",
              "      <td>GOOD TO FIRM</td>\n",
              "      <td>40-15</td>\n",
              "      <td>485000.0</td>\n",
              "      <td>5</td>\n",
              "      <td>24.05</td>\n",
              "      <td>22.64</td>\n",
              "      <td>23.70</td>\n",
              "      <td>24.05</td>\n",
              "      <td>46.69</td>\n",
              "      <td>70.39</td>\n",
              "      <td>5</td>\n",
              "      <td>13</td>\n",
              "      <td>12.5</td>\n",
              "      <td>47.0</td>\n",
              "      <td>5</td>\n",
              "      <td>23.5</td>\n",
              "    </tr>\n",
              "    <tr>\n",
              "      <th>2</th>\n",
              "      <td>2</td>\n",
              "      <td>ST</td>\n",
              "      <td>3</td>\n",
              "      <td>A</td>\n",
              "      <td>0</td>\n",
              "      <td>1400</td>\n",
              "      <td>GOOD TO FIRM</td>\n",
              "      <td>60-40</td>\n",
              "      <td>625000.0</td>\n",
              "      <td>4</td>\n",
              "      <td>13.77</td>\n",
              "      <td>22.22</td>\n",
              "      <td>24.88</td>\n",
              "      <td>13.77</td>\n",
              "      <td>35.99</td>\n",
              "      <td>60.87</td>\n",
              "      <td>11</td>\n",
              "      <td>1</td>\n",
              "      <td>23.0</td>\n",
              "      <td>23.0</td>\n",
              "      <td>11</td>\n",
              "      <td>70.0</td>\n",
              "    </tr>\n",
              "    <tr>\n",
              "      <th>3</th>\n",
              "      <td>3</td>\n",
              "      <td>ST</td>\n",
              "      <td>4</td>\n",
              "      <td>A</td>\n",
              "      <td>0</td>\n",
              "      <td>1200</td>\n",
              "      <td>GOOD TO FIRM</td>\n",
              "      <td>120-95</td>\n",
              "      <td>1750000.0</td>\n",
              "      <td>1</td>\n",
              "      <td>24.33</td>\n",
              "      <td>22.47</td>\n",
              "      <td>22.09</td>\n",
              "      <td>24.33</td>\n",
              "      <td>46.80</td>\n",
              "      <td>68.89</td>\n",
              "      <td>5</td>\n",
              "      <td>3</td>\n",
              "      <td>14.0</td>\n",
              "      <td>24.5</td>\n",
              "      <td>5</td>\n",
              "      <td>52.0</td>\n",
              "    </tr>\n",
              "    <tr>\n",
              "      <th>4</th>\n",
              "      <td>4</td>\n",
              "      <td>ST</td>\n",
              "      <td>5</td>\n",
              "      <td>A</td>\n",
              "      <td>0</td>\n",
              "      <td>1600</td>\n",
              "      <td>GOOD TO FIRM</td>\n",
              "      <td>60-40</td>\n",
              "      <td>625000.0</td>\n",
              "      <td>4</td>\n",
              "      <td>25.45</td>\n",
              "      <td>23.52</td>\n",
              "      <td>23.31</td>\n",
              "      <td>25.45</td>\n",
              "      <td>48.97</td>\n",
              "      <td>72.28</td>\n",
              "      <td>2</td>\n",
              "      <td>10</td>\n",
              "      <td>15.5</td>\n",
              "      <td>28.0</td>\n",
              "      <td>2</td>\n",
              "      <td>36.5</td>\n",
              "    </tr>\n",
              "  </tbody>\n",
              "</table>\n",
              "</div>"
            ],
            "text/plain": [
              "   race_id venue  race_no  ... place_dividend2  win_combination1  win_dividend1\n",
              "0        0    ST        1  ...            25.5                 8          121.0\n",
              "1        1    ST        2  ...            47.0                 5           23.5\n",
              "2        2    ST        3  ...            23.0                11           70.0\n",
              "3        3    ST        4  ...            24.5                 5           52.0\n",
              "4        4    ST        5  ...            28.0                 2           36.5\n",
              "\n",
              "[5 rows x 22 columns]"
            ]
          },
          "metadata": {
            "tags": []
          },
          "execution_count": 5
        }
      ]
    },
    {
      "cell_type": "code",
      "metadata": {
        "id": "5KdkXtFVWIb3",
        "colab_type": "code",
        "colab": {}
      },
      "source": [
        "data = data.fillna(0)"
      ],
      "execution_count": 0,
      "outputs": []
    },
    {
      "cell_type": "code",
      "metadata": {
        "id": "We7JE1-fjhAl",
        "colab_type": "code",
        "outputId": "f3c23373-7c6c-4b3d-910e-d916123032af",
        "colab": {
          "base_uri": "https://localhost:8080/",
          "height": 224
        }
      },
      "source": [
        "data = data.apply(LabelEncoder().fit_transform)\n",
        "data.head()"
      ],
      "execution_count": 0,
      "outputs": [
        {
          "output_type": "execute_result",
          "data": {
            "text/html": [
              "<div>\n",
              "<style scoped>\n",
              "    .dataframe tbody tr th:only-of-type {\n",
              "        vertical-align: middle;\n",
              "    }\n",
              "\n",
              "    .dataframe tbody tr th {\n",
              "        vertical-align: top;\n",
              "    }\n",
              "\n",
              "    .dataframe thead th {\n",
              "        text-align: right;\n",
              "    }\n",
              "</style>\n",
              "<table border=\"1\" class=\"dataframe\">\n",
              "  <thead>\n",
              "    <tr style=\"text-align: right;\">\n",
              "      <th></th>\n",
              "      <th>race_id</th>\n",
              "      <th>venue</th>\n",
              "      <th>race_no</th>\n",
              "      <th>config</th>\n",
              "      <th>surface</th>\n",
              "      <th>distance</th>\n",
              "      <th>going</th>\n",
              "      <th>horse_ratings</th>\n",
              "      <th>prize</th>\n",
              "      <th>race_class</th>\n",
              "      <th>sec_time1</th>\n",
              "      <th>sec_time2</th>\n",
              "      <th>sec_time3</th>\n",
              "      <th>time1</th>\n",
              "      <th>time2</th>\n",
              "      <th>time3</th>\n",
              "      <th>place_combination1</th>\n",
              "      <th>place_combination2</th>\n",
              "      <th>place_dividend1</th>\n",
              "      <th>place_dividend2</th>\n",
              "      <th>win_combination1</th>\n",
              "      <th>win_dividend1</th>\n",
              "    </tr>\n",
              "  </thead>\n",
              "  <tbody>\n",
              "    <tr>\n",
              "      <th>0</th>\n",
              "      <td>0</td>\n",
              "      <td>1</td>\n",
              "      <td>0</td>\n",
              "      <td>0</td>\n",
              "      <td>0</td>\n",
              "      <td>2</td>\n",
              "      <td>2</td>\n",
              "      <td>14</td>\n",
              "      <td>1</td>\n",
              "      <td>5</td>\n",
              "      <td>96</td>\n",
              "      <td>103</td>\n",
              "      <td>216</td>\n",
              "      <td>96</td>\n",
              "      <td>173</td>\n",
              "      <td>317</td>\n",
              "      <td>7</td>\n",
              "      <td>10</td>\n",
              "      <td>53</td>\n",
              "      <td>31</td>\n",
              "      <td>7</td>\n",
              "      <td>221</td>\n",
              "    </tr>\n",
              "    <tr>\n",
              "      <th>1</th>\n",
              "      <td>1</td>\n",
              "      <td>1</td>\n",
              "      <td>1</td>\n",
              "      <td>0</td>\n",
              "      <td>0</td>\n",
              "      <td>1</td>\n",
              "      <td>2</td>\n",
              "      <td>14</td>\n",
              "      <td>1</td>\n",
              "      <td>5</td>\n",
              "      <td>292</td>\n",
              "      <td>200</td>\n",
              "      <td>192</td>\n",
              "      <td>292</td>\n",
              "      <td>652</td>\n",
              "      <td>959</td>\n",
              "      <td>4</td>\n",
              "      <td>12</td>\n",
              "      <td>5</td>\n",
              "      <td>74</td>\n",
              "      <td>4</td>\n",
              "      <td>26</td>\n",
              "    </tr>\n",
              "    <tr>\n",
              "      <th>2</th>\n",
              "      <td>2</td>\n",
              "      <td>1</td>\n",
              "      <td>2</td>\n",
              "      <td>0</td>\n",
              "      <td>0</td>\n",
              "      <td>2</td>\n",
              "      <td>2</td>\n",
              "      <td>17</td>\n",
              "      <td>8</td>\n",
              "      <td>4</td>\n",
              "      <td>120</td>\n",
              "      <td>159</td>\n",
              "      <td>310</td>\n",
              "      <td>120</td>\n",
              "      <td>260</td>\n",
              "      <td>497</td>\n",
              "      <td>10</td>\n",
              "      <td>0</td>\n",
              "      <td>26</td>\n",
              "      <td>26</td>\n",
              "      <td>10</td>\n",
              "      <td>119</td>\n",
              "    </tr>\n",
              "    <tr>\n",
              "      <th>3</th>\n",
              "      <td>3</td>\n",
              "      <td>1</td>\n",
              "      <td>3</td>\n",
              "      <td>0</td>\n",
              "      <td>0</td>\n",
              "      <td>1</td>\n",
              "      <td>2</td>\n",
              "      <td>11</td>\n",
              "      <td>44</td>\n",
              "      <td>1</td>\n",
              "      <td>320</td>\n",
              "      <td>184</td>\n",
              "      <td>33</td>\n",
              "      <td>320</td>\n",
              "      <td>663</td>\n",
              "      <td>810</td>\n",
              "      <td>4</td>\n",
              "      <td>2</td>\n",
              "      <td>8</td>\n",
              "      <td>29</td>\n",
              "      <td>4</td>\n",
              "      <td>83</td>\n",
              "    </tr>\n",
              "    <tr>\n",
              "      <th>4</th>\n",
              "      <td>4</td>\n",
              "      <td>1</td>\n",
              "      <td>4</td>\n",
              "      <td>0</td>\n",
              "      <td>0</td>\n",
              "      <td>3</td>\n",
              "      <td>2</td>\n",
              "      <td>17</td>\n",
              "      <td>8</td>\n",
              "      <td>4</td>\n",
              "      <td>415</td>\n",
              "      <td>287</td>\n",
              "      <td>153</td>\n",
              "      <td>415</td>\n",
              "      <td>874</td>\n",
              "      <td>1140</td>\n",
              "      <td>1</td>\n",
              "      <td>9</td>\n",
              "      <td>11</td>\n",
              "      <td>36</td>\n",
              "      <td>1</td>\n",
              "      <td>52</td>\n",
              "    </tr>\n",
              "  </tbody>\n",
              "</table>\n",
              "</div>"
            ],
            "text/plain": [
              "   race_id  venue  race_no  ...  place_dividend2  win_combination1  win_dividend1\n",
              "0        0      1        0  ...               31                 7            221\n",
              "1        1      1        1  ...               74                 4             26\n",
              "2        2      1        2  ...               26                10            119\n",
              "3        3      1        3  ...               29                 4             83\n",
              "4        4      1        4  ...               36                 1             52\n",
              "\n",
              "[5 rows x 22 columns]"
            ]
          },
          "metadata": {
            "tags": []
          },
          "execution_count": 7
        }
      ]
    },
    {
      "cell_type": "code",
      "metadata": {
        "id": "Cv-wImEmjDLm",
        "colab_type": "code",
        "colab": {}
      },
      "source": [
        "X = data.drop(['going'], axis=1)\n",
        "y = data.going"
      ],
      "execution_count": 0,
      "outputs": []
    },
    {
      "cell_type": "code",
      "metadata": {
        "id": "UtoImnYGWwcC",
        "colab_type": "code",
        "outputId": "7545f6ee-6f56-4e30-fd89-b1d47405c299",
        "colab": {
          "base_uri": "https://localhost:8080/",
          "height": 510
        }
      },
      "source": [
        "data.info()"
      ],
      "execution_count": 0,
      "outputs": [
        {
          "output_type": "stream",
          "text": [
            "<class 'pandas.core.frame.DataFrame'>\n",
            "RangeIndex: 6349 entries, 0 to 6348\n",
            "Data columns (total 22 columns):\n",
            " #   Column              Non-Null Count  Dtype\n",
            "---  ------              --------------  -----\n",
            " 0   race_id             6349 non-null   int64\n",
            " 1   venue               6349 non-null   int64\n",
            " 2   race_no             6349 non-null   int64\n",
            " 3   config              6349 non-null   int64\n",
            " 4   surface             6349 non-null   int64\n",
            " 5   distance            6349 non-null   int64\n",
            " 6   going               6349 non-null   int64\n",
            " 7   horse_ratings       6349 non-null   int64\n",
            " 8   prize               6349 non-null   int64\n",
            " 9   race_class          6349 non-null   int64\n",
            " 10  sec_time1           6349 non-null   int64\n",
            " 11  sec_time2           6349 non-null   int64\n",
            " 12  sec_time3           6349 non-null   int64\n",
            " 13  time1               6349 non-null   int64\n",
            " 14  time2               6349 non-null   int64\n",
            " 15  time3               6349 non-null   int64\n",
            " 16  place_combination1  6349 non-null   int64\n",
            " 17  place_combination2  6349 non-null   int64\n",
            " 18  place_dividend1     6349 non-null   int64\n",
            " 19  place_dividend2     6349 non-null   int64\n",
            " 20  win_combination1    6349 non-null   int64\n",
            " 21  win_dividend1       6349 non-null   int64\n",
            "dtypes: int64(22)\n",
            "memory usage: 1.1 MB\n"
          ],
          "name": "stdout"
        }
      ]
    },
    {
      "cell_type": "code",
      "metadata": {
        "id": "QivMan8Ut3EE",
        "colab_type": "code",
        "outputId": "090a0989-618d-4e06-e7fc-c9be5f44aa9b",
        "colab": {
          "base_uri": "https://localhost:8080/",
          "height": 34
        }
      },
      "source": [
        "X.shape, y.shape"
      ],
      "execution_count": 0,
      "outputs": [
        {
          "output_type": "execute_result",
          "data": {
            "text/plain": [
              "((6349, 21), (6349,))"
            ]
          },
          "metadata": {
            "tags": []
          },
          "execution_count": 10
        }
      ]
    },
    {
      "cell_type": "code",
      "metadata": {
        "id": "rCswFw3dxwIm",
        "colab_type": "code",
        "outputId": "c789d88f-8e20-4800-f32b-3cb3f5275fa6",
        "colab": {
          "base_uri": "https://localhost:8080/",
          "height": 34
        }
      },
      "source": [
        "clf = tree.DecisionTreeClassifier()\n",
        "scores = cross_val_score(clf, X, y)\n",
        "scores.mean()"
      ],
      "execution_count": 0,
      "outputs": [
        {
          "output_type": "execute_result",
          "data": {
            "text/plain": [
              "0.12048398205543456"
            ]
          },
          "metadata": {
            "tags": []
          },
          "execution_count": 11
        }
      ]
    },
    {
      "cell_type": "code",
      "metadata": {
        "id": "OuemZ1umyNaA",
        "colab_type": "code",
        "outputId": "55b2d548-0e82-4dda-ab92-5b4c92e1ac63",
        "colab": {
          "base_uri": "https://localhost:8080/",
          "height": 34
        }
      },
      "source": [
        "clf = RandomForestRegressor()\n",
        "scores = cross_val_score(clf, X, y)\n",
        "scores.mean()"
      ],
      "execution_count": 0,
      "outputs": [
        {
          "output_type": "execute_result",
          "data": {
            "text/plain": [
              "-0.2019569433582355"
            ]
          },
          "metadata": {
            "tags": []
          },
          "execution_count": 12
        }
      ]
    },
    {
      "cell_type": "markdown",
      "metadata": {
        "id": "9vdvOp6lPWkV",
        "colab_type": "text"
      },
      "source": [
        "Stratified Cross Validation, Elbow and Silhouette method\n"
      ]
    },
    {
      "cell_type": "code",
      "metadata": {
        "id": "5-Oec4dR3eFE",
        "colab_type": "code",
        "outputId": "4d63bf0e-c76c-4649-fe24-0cfd4269a01d",
        "colab": {
          "base_uri": "https://localhost:8080/",
          "height": 34
        }
      },
      "source": [
        "skf = StratifiedKFold(n_splits=5)\n",
        "skf.get_n_splits(X, y)"
      ],
      "execution_count": 0,
      "outputs": [
        {
          "output_type": "execute_result",
          "data": {
            "text/plain": [
              "5"
            ]
          },
          "metadata": {
            "tags": []
          },
          "execution_count": 13
        }
      ]
    },
    {
      "cell_type": "code",
      "metadata": {
        "id": "OlqM0b8Y3pab",
        "colab_type": "code",
        "outputId": "e7b1d232-e5a9-4d55-95e7-186e76d77cb5",
        "colab": {
          "base_uri": "https://localhost:8080/",
          "height": 34
        }
      },
      "source": [
        "print(skf)"
      ],
      "execution_count": 0,
      "outputs": [
        {
          "output_type": "stream",
          "text": [
            "StratifiedKFold(n_splits=5, random_state=None, shuffle=False)\n"
          ],
          "name": "stdout"
        }
      ]
    },
    {
      "cell_type": "code",
      "metadata": {
        "id": "EVH2gZnLrhLA",
        "colab_type": "code",
        "colab": {}
      },
      "source": [
        "def silhouette(X_train, n_clusters):\n",
        "  fig, (ax1, ax2) = plt.subplots(1, 2)\n",
        "  fig.set_size_inches(18, 7)\n",
        "  ax1.set_xlim([-0.1, 1])\n",
        "  ax1.set_ylim([0, len(X) + (n_clusters + 1) * 10])\n",
        "  # Initialize the clusterer with n_clusters value and a random generator\n",
        "    # seed of 10 for reproducibility.\n",
        "  clusterer = KMeans(n_clusters=n_clusters, random_state=10)\n",
        "  cluster_labels = clusterer.fit_predict(X_train)\n",
        "  print(cluster_labels)\n",
        "\n",
        "    # The silhouette_score gives the average value for all the samples.\n",
        "    # This gives a perspective into the density and separation of the formed\n",
        "    # clusters\n",
        "  silhouette_avg = silhouette_score(X_train, cluster_labels)\n",
        "  print(\"For n_clusters =\", n_clusters,\n",
        "          \"The average silhouette_score is :\", silhouette_avg)\n",
        "\n",
        "    # Compute the silhouette scores for each sample\n",
        "  sample_silhouette_values = silhouette_samples(X_train, cluster_labels)\n",
        "\n",
        "  y_lower = 10\n",
        "  for i in range(n_clusters):\n",
        "        # Aggregate the silhouette scores for samples belonging to\n",
        "        # cluster i, and sort them\n",
        "      ith_cluster_silhouette_values = \\\n",
        "          sample_silhouette_values[cluster_labels == i]\n",
        "\n",
        "      ith_cluster_silhouette_values.sort()\n",
        "\n",
        "      size_cluster_i = ith_cluster_silhouette_values.shape[0]\n",
        "      y_upper = y_lower + size_cluster_i\n",
        "\n",
        "      color = cm.nipy_spectral(float(i) / n_clusters)\n",
        "      ax1.fill_betweenx(np.arange(y_lower, y_upper),\n",
        "                        0, ith_cluster_silhouette_values,\n",
        "                        facecolor=color, edgecolor=color, alpha=0.7)\n",
        "\n",
        "        # Label the silhouette plots with their cluster numbers at the middle\n",
        "      ax1.text(-0.05, y_lower + 0.5 * size_cluster_i, str(i))\n",
        "\n",
        "        # Compute the new y_lower for next plot\n",
        "      y_lower = y_upper + 10  # 10 for the 0 samples\n",
        "\n",
        "  ax1.set_title(\"The silhouette plot for the various clusters.\")\n",
        "  ax1.set_xlabel(\"The silhouette coefficient values\")\n",
        "  ax1.set_ylabel(\"Cluster label\")\n",
        "\n",
        "    # The vertical line for average silhouette score of all the values\n",
        "  ax1.axvline(x=silhouette_avg, color=\"red\", linestyle=\"--\")\n",
        "\n",
        "  ax1.set_yticks([])  # Clear the yaxis labels / ticks\n",
        "  ax1.set_xticks([-0.1, 0, 0.2, 0.4, 0.6, 0.8, 1])\n",
        "\n",
        "    # 2nd Plot showing the actual clusters formed\n",
        "  colors = cm.nipy_spectral(cluster_labels.astype(float) / n_clusters)\n",
        "  ax2.scatter(X_train.iloc[:, 0], X_train.iloc[:, 1], marker='.', s=30, lw=0, alpha=0.7, c=colors, edgecolor='k')\n",
        "\n",
        "    # Labeling the clusters\n",
        "  centers = clusterer.cluster_centers_\n",
        "    # Draw white circles at cluster centers\n",
        "  ax2.scatter(centers[:, 0], centers[:, 1], marker='o',\n",
        "              c=\"white\", alpha=1, s=200, edgecolor='k')\n",
        "\n",
        "  for i, c in enumerate(centers):\n",
        "      ax2.scatter(c[0], c[1], marker='$%d$' % i, alpha=1,\n",
        "                  s=50, edgecolor='k')\n",
        "\n",
        "  ax2.set_title(\"The visualization of the clustered data.\")\n",
        "  ax2.set_xlabel(\"Feature space for the 1st feature\")\n",
        "  ax2.set_ylabel(\"Feature space for the 2nd feature\")\n",
        "\n",
        "  plt.suptitle((\"Silhouette analysis for KMeans clustering on sample data \"\n",
        "                \"with n_clusters = %d\" % n_clusters),\n",
        "                fontsize=14, fontweight='bold')\n",
        "\n",
        "  plt.show()\n"
      ],
      "execution_count": 0,
      "outputs": []
    },
    {
      "cell_type": "code",
      "metadata": {
        "id": "N3BJGW1o3hRG",
        "colab_type": "code",
        "outputId": "30cfc8e1-87a7-46d6-a969-e2e5058e4d59",
        "colab": {
          "base_uri": "https://localhost:8080/",
          "height": 102
        }
      },
      "source": [
        "\n",
        "X_train = []\n",
        "X_test = []\n",
        "y_train = []\n",
        "y_test = []\n",
        "k_centers = []\n",
        "# train_index, test_index = next(iter(skf.split(X,y)))\n",
        "for train_index, test_index in skf.split(X, y):\n",
        "  print(\"Train:\", train_index, \"Test:\", test_index)\n",
        "  X_train.append(X.iloc[train_index])\n",
        "  X_test.append(X.iloc[test_index])\n",
        "  y_train.append(y.iloc[train_index])\n",
        "  y_test.append(y.iloc[test_index])"
      ],
      "execution_count": 0,
      "outputs": [
        {
          "output_type": "stream",
          "text": [
            "Train: [ 624  625  626 ... 6346 6347 6348] Test: [   0    1    2 ... 3046 3047 3744]\n",
            "Train: [   0    1    2 ... 6346 6347 6348] Test: [ 624  625  626 ... 4022 4557 4558]\n",
            "Train: [   0    1    2 ... 6346 6347 6348] Test: [ 709  710  712 ... 4561 4562 4564]\n",
            "Train: [   0    1    2 ... 6346 6347 6348] Test: [ 713 1352 1353 ... 5403 5404 5405]\n",
            "Train: [   0    1    2 ... 5403 5404 5405] Test: [1422 1488 2861 ... 6346 6347 6348]\n"
          ],
          "name": "stdout"
        }
      ]
    },
    {
      "cell_type": "code",
      "metadata": {
        "id": "yjuMRt4LcFuV",
        "colab_type": "code",
        "colab": {}
      },
      "source": [
        "def elbow_method(train, i):\n",
        "  means = KMeans(n_clusters=i)\n",
        "  means.fit(train)\n",
        "  return means.inertia_"
      ],
      "execution_count": 0,
      "outputs": []
    },
    {
      "cell_type": "code",
      "metadata": {
        "id": "BRyPkmdacHd0",
        "colab_type": "code",
        "colab": {}
      },
      "source": [
        "def measure_minority_class(labels, true_labels):\n",
        "  count = 0\n",
        "  total = 0\n",
        "  for i in range(len(labels)):\n",
        "    if true_labels[i] == 1: \n",
        "      total += 1\n",
        "      if true_labels[i] == labels[i]:\n",
        "        count+=1\n",
        "  print(\"Complete Minority:\",count/total)\n",
        "  if count/total != 1:\n",
        "    return True\n",
        "  return False"
      ],
      "execution_count": 0,
      "outputs": []
    },
    {
      "cell_type": "code",
      "metadata": {
        "id": "gd4wjioLcI-P",
        "colab_type": "code",
        "outputId": "e89676ee-4c27-4c6a-ac8e-5983b1ea550c",
        "colab": {
          "base_uri": "https://localhost:8080/",
          "height": 1000
        }
      },
      "source": [
        "rm = RandomForestRegressor()\n",
        "count = 1\n",
        "Sum_of_squared_distances = []\n",
        "final_clustering = []\n",
        "for i in range(len(X_train)):\n",
        "  if count > 1:\n",
        "    silhouette(X_train[i], count)\n",
        "    km = KMeans(n_clusters=2)\n",
        "    km.fit(X_train[i])\n",
        "    final_clustering.append(km.labels_)\n",
        "    if measure_minority_class(km.labels_, y_train[i].values):\n",
        "      rm.fit(X_train[i], y_train[i])\n",
        "    Sum_of_squared_distances.append(elbow_method(X_train[i], count))\n",
        "  count+=1"
      ],
      "execution_count": 0,
      "outputs": [
        {
          "output_type": "stream",
          "text": [
            "[0 0 0 ... 1 1 1]\n",
            "For n_clusters = 2 The average silhouette_score is : 0.5516275084621658\n"
          ],
          "name": "stdout"
        },
        {
          "output_type": "display_data",
          "data": {
            "image/png": "[encoded data removed]",
            "text/plain": [
              "<Figure size 1296x504 with 2 Axes>"
            ]
          },
          "metadata": {
            "tags": []
          }
        },
        {
          "output_type": "stream",
          "text": [
            "Complete Minority: 0.612913003940588\n",
            "[1 1 1 ... 0 0 0]\n",
            "For n_clusters = 3 The average silhouette_score is : 0.46851102489404334\n"
          ],
          "name": "stdout"
        },
        {
          "output_type": "display_data",
          "data": {
            "image/png": "[encoded data removed]",
            "text/plain": [
              "<Figure size 1296x504 with 2 Axes>"
            ]
          },
          "metadata": {
            "tags": []
          }
        },
        {
          "output_type": "stream",
          "text": [
            "Complete Minority: 0.4998484389208851\n",
            "[1 1 1 ... 2 2 2]\n",
            "For n_clusters = 4 The average silhouette_score is : 0.39591520330403657\n"
          ],
          "name": "stdout"
        },
        {
          "output_type": "display_data",
          "data": {
            "image/png": "[encoded data removed]",
            "text/plain": [
              "<Figure size 1296x504 with 2 Axes>"
            ]
          },
          "metadata": {
            "tags": []
          }
        },
        {
          "output_type": "stream",
          "text": [
            "Complete Minority: 0.2501516070345664\n",
            "[0 0 0 ... 1 1 1]\n",
            "For n_clusters = 5 The average silhouette_score is : 0.3328571283886881\n"
          ],
          "name": "stdout"
        },
        {
          "output_type": "display_data",
          "data": {
            "image/png": "[encoded data removed]",
            "text/plain": [
              "<Figure size 1296x504 with 2 Axes>"
            ]
          },
          "metadata": {
            "tags": []
          }
        },
        {
          "output_type": "stream",
          "text": [
            "Complete Minority: 0.5285021224984839\n"
          ],
          "name": "stdout"
        }
      ]
    },
    {
      "cell_type": "code",
      "metadata": {
        "id": "43ug2hLnGV6_",
        "colab_type": "code",
        "outputId": "a4bbf445-92c5-4ff8-efbf-4b129f91b83d",
        "colab": {
          "base_uri": "https://localhost:8080/",
          "height": 295
        }
      },
      "source": [
        "K = range(1,5)\n",
        "\n",
        "plt.plot(K, Sum_of_squared_distances, 'bx-')\n",
        "plt.xlabel('k')\n",
        "plt.ylabel('Sum_of_squared_distances')\n",
        "plt.title('Elbow Method For Optimal k')\n",
        "plt.show()"
      ],
      "execution_count": 0,
      "outputs": [
        {
          "output_type": "display_data",
          "data": {
            "image/png": "[encoded data removed]",
            "text/plain": [
              "<Figure size 432x288 with 1 Axes>"
            ]
          },
          "metadata": {
            "tags": []
          }
        }
      ]
    },
    {
      "cell_type": "markdown",
      "metadata": {
        "id": "UQdVTLDM0wUu",
        "colab_type": "text"
      },
      "source": [
        ""
      ]
    },
    {
      "cell_type": "code",
      "metadata": {
        "id": "qsnEM2JdcPSB",
        "colab_type": "code",
        "outputId": "a56e4b24-8dac-4e6f-a5ed-c93182298ba0",
        "colab": {
          "base_uri": "https://localhost:8080/",
          "height": 357
        }
      },
      "source": [
        "score_average = []\n",
        "for j in range(len(X_test)):\n",
        "  score, perm, pvalue = permutation_test_score(rm, X_test[j], y_test[j], cv=10, n_permutations=10)\n",
        "  print(score)\n",
        "  print(perm)\n",
        "  print(pvalue)\n",
        "  score_average.append(score)"
      ],
      "execution_count": 0,
      "outputs": [
        {
          "output_type": "stream",
          "text": [
            "-0.7673729473032445\n",
            "[-0.34255315 -0.1708304  -0.13462833 -0.1680194  -0.48786511 -0.30996533\n",
            " -0.11216977 -0.38127023 -0.97502474 -0.24127594]\n",
            "0.9090909090909091\n",
            "-0.14762310271147977\n",
            "[-0.0952919  -0.8882695  -0.10852241 -0.46354911 -0.2364353  -1.10137305\n",
            " -0.20201216 -0.16210555 -0.33499204 -1.74383468]\n",
            "0.2727272727272727\n",
            "-0.5810583779559071\n",
            "[-0.17605346 -0.27405921 -0.16031104 -0.27264062 -0.75607922 -0.29152798\n",
            " -0.19695391 -0.27851369 -0.23468282 -0.59407495]\n",
            "0.8181818181818182\n",
            "-0.261778490152632\n",
            "[-0.09762046 -0.178817   -0.21943735 -0.1969195  -0.81933129 -0.16427321\n",
            " -0.12399538 -0.19175956 -0.12813571 -2.42165867]\n",
            "0.8181818181818182\n",
            "-0.750335863404385\n",
            "[-0.35449344 -0.10343108 -0.39028099 -0.19832951 -0.1891012  -0.16670029\n",
            " -0.2170446  -0.15608657 -0.57685658 -0.15566434]\n",
            "1.0\n"
          ],
          "name": "stdout"
        }
      ]
    },
    {
      "cell_type": "code",
      "metadata": {
        "id": "3d1xjCv9cTUs",
        "colab_type": "code",
        "outputId": "dcf889a2-5e9c-4a78-9e56-54588b1806b7",
        "colab": {
          "base_uri": "https://localhost:8080/",
          "height": 102
        }
      },
      "source": [
        "for k in range(len(score_average)):\n",
        "  print(score_average[k])"
      ],
      "execution_count": 0,
      "outputs": [
        {
          "output_type": "stream",
          "text": [
            "-0.7673729473032445\n",
            "-0.14762310271147977\n",
            "-0.5810583779559071\n",
            "-0.261778490152632\n",
            "-0.750335863404385\n"
          ],
          "name": "stdout"
        }
      ]
    },
    {
      "cell_type": "code",
      "metadata": {
        "id": "xxALFt5MTb-t",
        "colab_type": "code",
        "outputId": "6a96e5fa-e826-44a5-bee8-284c1219279a",
        "colab": {
          "base_uri": "https://localhost:8080/",
          "height": 51
        }
      },
      "source": [
        "print(np.array(score_average).mean())\n",
        "print(scores.mean())"
      ],
      "execution_count": 0,
      "outputs": [
        {
          "output_type": "stream",
          "text": [
            "-0.5016337563055296\n",
            "-0.2019569433582355\n"
          ],
          "name": "stdout"
        }
      ]
    },
    {
      "cell_type": "code",
      "metadata": {
        "id": "sDCpTq5FLSk_",
        "colab_type": "code",
        "outputId": "98ceb945-d42f-4abc-de97-394da6ae1057",
        "colab": {
          "base_uri": "https://localhost:8080/",
          "height": 34
        }
      },
      "source": [
        "print(score_average)"
      ],
      "execution_count": 0,
      "outputs": [
        {
          "output_type": "stream",
          "text": [
            "[-0.7673729473032445, -0.14762310271147977, -0.5810583779559071, -0.261778490152632, -0.750335863404385]\n"
          ],
          "name": "stdout"
        }
      ]
    },
    {
      "cell_type": "code",
      "metadata": {
        "id": "iFUEv7yDm3nH",
        "colab_type": "code",
        "outputId": "6661fdd9-9dfc-4778-b115-780c528c6120",
        "colab": {
          "base_uri": "https://localhost:8080/",
          "height": 34
        }
      },
      "source": [
        "np.array(score_average).std()"
      ],
      "execution_count": 0,
      "outputs": [
        {
          "output_type": "execute_result",
          "data": {
            "text/plain": [
              "0.25362666176535925"
            ]
          },
          "metadata": {
            "tags": []
          },
          "execution_count": 25
        }
      ]
    },
    {
      "cell_type": "code",
      "metadata": {
        "id": "sxn09Cl1IUi6",
        "colab_type": "code",
        "outputId": "4afea9f2-a1f0-434c-99b1-d4fc2de697fe",
        "colab": {
          "base_uri": "https://localhost:8080/",
          "height": 537
        }
      },
      "source": [
        "fig, ax = plt.subplots()\n",
        "ax.boxplot([scores, score_average], showmeans=True)"
      ],
      "execution_count": 0,
      "outputs": [
        {
          "output_type": "execute_result",
          "data": {
            "text/plain": [
              "{'boxes': [<matplotlib.lines.Line2D at 0x7f859e792390>,\n",
              "  <matplotlib.lines.Line2D at 0x7f859e79df28>],\n",
              " 'caps': [<matplotlib.lines.Line2D at 0x7f859e792da0>,\n",
              "  <matplotlib.lines.Line2D at 0x7f859e79d160>,\n",
              "  <matplotlib.lines.Line2D at 0x7f859e7a9a20>,\n",
              "  <matplotlib.lines.Line2D at 0x7f859e7a9da0>],\n",
              " 'fliers': [<matplotlib.lines.Line2D at 0x7f859e79dba8>,\n",
              "  <matplotlib.lines.Line2D at 0x7f859e7b3828>],\n",
              " 'means': [<matplotlib.lines.Line2D at 0x7f859e79d860>,\n",
              "  <matplotlib.lines.Line2D at 0x7f859e7b34e0>],\n",
              " 'medians': [<matplotlib.lines.Line2D at 0x7f859e79d4e0>,\n",
              "  <matplotlib.lines.Line2D at 0x7f859e7b3160>],\n",
              " 'whiskers': [<matplotlib.lines.Line2D at 0x7f859e7926a0>,\n",
              "  <matplotlib.lines.Line2D at 0x7f859e792a20>,\n",
              "  <matplotlib.lines.Line2D at 0x7f859e7a9320>,\n",
              "  <matplotlib.lines.Line2D at 0x7f859e7a96a0>]}"
            ]
          },
          "metadata": {
            "tags": []
          },
          "execution_count": 26
        },
        {
          "output_type": "display_data",
          "data": {
            "image/png": "[encoded data removed]",
            "text/plain": [
              "<Figure size 432x288 with 1 Axes>"
            ]
          },
          "metadata": {
            "tags": []
          }
        }
      ]
    }
  ]
}